{
 "cells": [
  {
   "cell_type": "code",
   "execution_count": 2,
   "id": "b3cfebac",
   "metadata": {},
   "outputs": [],
   "source": [
    "import pandas as pd\n",
    "import numpy as np\n",
    "\n",
    "import torch\n",
    "from torch import nn\n",
    "from torch.utils.data import DataLoader\n",
    "from torch.utils.data import Dataset\n",
    "from torch.utils.data import random_split"
   ]
  },
  {
   "cell_type": "code",
   "execution_count": 3,
   "id": "c57c7660",
   "metadata": {},
   "outputs": [],
   "source": [
    "df_raw_train = pd.read_csv('data/train.csv')\n",
    "df_raw_val = pd.read_csv(\"data/test.csv\")"
   ]
  },
  {
   "cell_type": "code",
   "execution_count": 4,
   "id": "f46013ac",
   "metadata": {},
   "outputs": [],
   "source": [
    "label = 'SalePrice'\n",
    "\n",
    "# Drop the 'Id' column from the train and test set\n",
    "features = pd.concat(\n",
    "    (df_raw_train.drop([\"Id\", label], axis=1),\n",
    "     df_raw_val.drop([\"Id\"], axis=1)))\n",
    "\n",
    "# Standardize numerical columns\n",
    "numeric_features = features.dtypes[features.dtypes!='object'].index\n",
    "features[numeric_features] = features[numeric_features].apply(\n",
    "        lambda x: (x - x.mean()) / (x.std()))\n",
    "\n",
    " # Replace NAN numerical features by 0\n",
    "features[numeric_features] = features[numeric_features].fillna(0)\n",
    "\n",
    "# Replace discrete features by one-hot encoding\n",
    "features = pd.get_dummies(features, dummy_na=True)\n",
    "\n",
    "train_df = features[:df_raw_train.shape[0]].copy()\n",
    "val_df = features[df_raw_train.shape[0]:].copy()"
   ]
  },
  {
   "cell_type": "code",
   "execution_count": 5,
   "id": "6660fabd",
   "metadata": {},
   "outputs": [],
   "source": [
    "# structure of training data, spliting it into X and y\n",
    "class dataset(Dataset):\n",
    "    def __init__(self,X,Y):\n",
    "        self.X = X\n",
    "        self.Y = Y\n",
    "\n",
    "    def __len__(self):\n",
    "        return len(self.X)\n",
    "\n",
    "    def __getitem__(self, idx):\n",
    "        return [self.X[idx], self.Y[idx]]"
   ]
  },
  {
   "cell_type": "code",
   "execution_count": 6,
   "id": "722b6ff2",
   "metadata": {},
   "outputs": [],
   "source": [
    "X = torch.tensor(train_df.values, dtype=torch.float)\n",
    "y = torch.tensor(df_raw_train[label].values, dtype=torch.float).unsqueeze(1)\n",
    "\n",
    "train_set, test_set = random_split(dataset(X,y), [0.8, 0.2])\n",
    "\n",
    "train_dataloader = DataLoader(train_set, batch_size=64)\n",
    "test_dataloader = DataLoader(test_set, batch_size=64)"
   ]
  },
  {
   "cell_type": "code",
   "execution_count": 7,
   "id": "33a6443e",
   "metadata": {},
   "outputs": [
    {
     "name": "stdout",
     "output_type": "stream",
     "text": [
      "Using mps device\n"
     ]
    }
   ],
   "source": [
    "device = (\n",
    "    \"cuda\"\n",
    "    if torch.cuda.is_available()\n",
    "    else \"mps\"\n",
    "    if torch.backends.mps.is_available()\n",
    "    else \"cpu\"\n",
    ")\n",
    "print(f\"Using {device} device\")"
   ]
  },
  {
   "cell_type": "code",
   "execution_count": 8,
   "id": "44f9b82d",
   "metadata": {},
   "outputs": [],
   "source": [
    "class Net(nn.Module):\n",
    "    def __init__(self, D_in, H1, H2, H3, D_out):\n",
    "        super(Net, self).__init__()\n",
    "\n",
    "        self.linear1 = nn.Linear(D_in, H1)\n",
    "        self.linear2 = nn.Linear(H1, H2)\n",
    "        self.linear3 = nn.Linear(H2, H3)\n",
    "        self.linear4 = nn.Linear(H3, D_out)\n",
    "\n",
    "    def forward(self, x):\n",
    "        y_pred = self.linear1(x).clamp(min=0)                   #clamp(min=0) set y_pred = 0 if y_pred < 0 since price is always >= 0\n",
    "        y_pred = self.linear2(y_pred).clamp(min=0)\n",
    "        y_pred = self.linear3(y_pred).clamp(min=0)\n",
    "        y_pred = self.linear4(y_pred)\n",
    "        return y_pred\n",
    "\n",
    "H1, H2, H3 = 500, 1000, 200\n",
    "D_in, D_out = 331, 1\n",
    "model = Net(D_in, H1, H2, H3, D_out).to(device)"
   ]
  },
  {
   "cell_type": "code",
   "execution_count": 9,
   "id": "8a95d319",
   "metadata": {},
   "outputs": [],
   "source": [
    "# Root mean squared log loss\n",
    "class RMSLELoss(nn.Module):\n",
    "    def __init__(self):\n",
    "        super().__init__()\n",
    "        self.mse = nn.MSELoss(reduction=\"sum\")\n",
    "\n",
    "    def forward(self, pred, actual):\n",
    "        return torch.sqrt(self.mse(torch.log(pred + 1), torch.log(actual + 1)))\n",
    "\n",
    "loss_fn = RMSLELoss()\n",
    "optimizer = torch.optim.SGD(model.parameters(), lr=0.01)"
   ]
  },
  {
   "cell_type": "code",
   "execution_count": 10,
   "id": "53e6d585",
   "metadata": {},
   "outputs": [],
   "source": [
    "def train(dataloader, model, loss_fn, optimizer):\n",
    "    size = len(dataloader.dataset)\n",
    "    model.train()\n",
    "    for batch, (X, y) in enumerate(dataloader):\n",
    "        X, y = X.to(device), y.to(device)\n",
    "\n",
    "        # Compute prediction error\n",
    "        pred = model(X)\n",
    "        loss = loss_fn(pred, y)\n",
    "\n",
    "        # Backpropagation\n",
    "        loss.backward()\n",
    "        optimizer.step()\n",
    "        optimizer.zero_grad()\n",
    "\n",
    "#       if batch % 5 == 0:\n",
    "#           loss, current = loss.item(), (batch + 1) * len(X)\n",
    "#           print(f\"loss: {loss:>7f}  [{current:>5d}/{size:>5d}]\")"
   ]
  },
  {
   "cell_type": "code",
   "execution_count": 11,
   "id": "6dd1349d",
   "metadata": {},
   "outputs": [],
   "source": [
    "def test(dataloader, model, loss_fn):\n",
    "    # Set the model to evaluation mode - important for batch normalization and dropout layers\n",
    "    # Unnecessary in this situation but added for best practices\n",
    "    size = len(dataloader.dataset)\n",
    "    num_batches = len(dataloader)\n",
    "    model.eval()\n",
    "    test_loss = 0\n",
    "\n",
    "    # Evaluating the model with torch.no_grad() ensures that no gradients are computed during test mode\n",
    "    # also serves to reduce unnecessary gradient computations and memory usage for tensors with requires_grad=True\n",
    "    with torch.no_grad():\n",
    "        for X, y in dataloader:\n",
    "            X, y = X.to(device), y.to(device)\n",
    "            pred = model(X)\n",
    "            test_loss += loss_fn(pred, y).item()\n",
    "\n",
    "    test_loss /= num_batches\n",
    "#   print(f\"Test Error: \\nAvg loss: {test_loss:>8f} \\n\")"
   ]
  },
  {
   "cell_type": "code",
   "execution_count": 12,
   "id": "8214bc6d",
   "metadata": {},
   "outputs": [],
   "source": [
    "epochs = 2000\n",
    "for t in range(epochs):\n",
    "#   print(f\"Epoch {t+1}\\n-------------------------------\")\n",
    "    train(train_dataloader, model, loss_fn, optimizer)\n",
    "    test(test_dataloader, model, loss_fn)"
   ]
  },
  {
   "cell_type": "code",
   "execution_count": 14,
   "id": "320fdc7c",
   "metadata": {},
   "outputs": [],
   "source": [
    "preds = model(torch.tensor(val_df.values, dtype=torch.float).to(device))\n",
    "submission = pd.DataFrame({'Id':df_raw_val.Id,\n",
    "                           'SalePrice':preds.cpu().squeeze(1).detach().numpy()})\n",
    "submission.to_csv('submission2.csv', index=False)"
   ]
  },
  {
   "cell_type": "code",
   "execution_count": null,
   "id": "382a96c5",
   "metadata": {},
   "outputs": [],
   "source": []
  }
 ],
 "metadata": {
  "kernelspec": {
   "display_name": "Python 3",
   "language": "python",
   "name": "python3"
  },
  "language_info": {
   "codemirror_mode": {
    "name": "ipython",
    "version": 3
   },
   "file_extension": ".py",
   "mimetype": "text/x-python",
   "name": "python",
   "nbconvert_exporter": "python",
   "pygments_lexer": "ipython3",
   "version": "3.8.8"
  }
 },
 "nbformat": 4,
 "nbformat_minor": 5
}
